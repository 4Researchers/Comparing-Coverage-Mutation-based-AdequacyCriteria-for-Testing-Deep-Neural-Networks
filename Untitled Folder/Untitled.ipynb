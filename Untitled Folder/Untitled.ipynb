{
 "cells": [
  {
   "cell_type": "code",
   "execution_count": 7,
   "metadata": {},
   "outputs": [
    {
     "name": "stdout",
     "output_type": "stream",
     "text": [
      "a\n",
      "2\n"
     ]
    }
   ],
   "source": [
    "s = \"asdkjkaw\"\n",
    "\n",
    "min = 'z'\n",
    "for i in range(len(s)):\n",
    "    if (s[i] < min):\n",
    "        min = s[i]\n",
    "\n",
    "        \n",
    "        \n",
    "occ = 0\n",
    "for i in range(len(s)):\n",
    "    if (s[i] == min):\n",
    "        occ += 1\n",
    "print(min)\n",
    "print(occ)"
   ]
  },
  {
   "cell_type": "code",
   "execution_count": 10,
   "metadata": {},
   "outputs": [
    {
     "name": "stdout",
     "output_type": "stream",
     "text": [
      "[1, 2, 3, 5, 6]\n"
     ]
    }
   ],
   "source": [
    "A = [1,2,3,4,6]\n",
    "B = [1,2,3,5,6]\n",
    "\n",
    "\n",
    "i = 0\n",
    "while A[i] == B [i]:\n",
    "    i += 1\n",
    "\n",
    "if A[i] > B[i]:\n",
    "    print(A)\n",
    "else:\n",
    "    print(B)"
   ]
  },
  {
   "cell_type": "code",
   "execution_count": null,
   "metadata": {},
   "outputs": [],
   "source": []
  }
 ],
 "metadata": {
  "kernelspec": {
   "display_name": "Python 3",
   "language": "python",
   "name": "python3"
  },
  "language_info": {
   "codemirror_mode": {
    "name": "ipython",
    "version": 3
   },
   "file_extension": ".py",
   "mimetype": "text/x-python",
   "name": "python",
   "nbconvert_exporter": "python",
   "pygments_lexer": "ipython3",
   "version": "3.6.5"
  }
 },
 "nbformat": 4,
 "nbformat_minor": 2
}
